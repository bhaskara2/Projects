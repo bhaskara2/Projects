{
 "cells": [
  {
   "cell_type": "code",
   "execution_count": 25,
   "metadata": {},
   "outputs": [],
   "source": [
    "import pandas as pd\n",
    "import numpy as np"
   ]
  },
  {
   "cell_type": "code",
   "execution_count": 9,
   "metadata": {},
   "outputs": [],
   "source": [
    "df = pd.read_csv('engagement.csv')"
   ]
  },
  {
   "cell_type": "code",
   "execution_count": 54,
   "metadata": {},
   "outputs": [],
   "source": [
    "df1 = pd.read_csv('takehome1.csv')"
   ]
  },
  {
   "cell_type": "code",
   "execution_count": null,
   "metadata": {},
   "outputs": [],
   "source": []
  },
  {
   "cell_type": "code",
   "execution_count": 28,
   "metadata": {},
   "outputs": [],
   "source": [
    "df['time_stamp'] = pd.to_datetime(df['time_stamp'])"
   ]
  },
  {
   "cell_type": "code",
   "execution_count": 210,
   "metadata": {},
   "outputs": [
    {
     "data": {
      "text/html": [
       "<div>\n",
       "<style scoped>\n",
       "    .dataframe tbody tr th:only-of-type {\n",
       "        vertical-align: middle;\n",
       "    }\n",
       "\n",
       "    .dataframe tbody tr th {\n",
       "        vertical-align: top;\n",
       "    }\n",
       "\n",
       "    .dataframe thead th {\n",
       "        text-align: right;\n",
       "    }\n",
       "</style>\n",
       "<table border=\"1\" class=\"dataframe\">\n",
       "  <thead>\n",
       "    <tr style=\"text-align: right;\">\n",
       "      <th></th>\n",
       "      <th>object_id</th>\n",
       "      <th>creation_time</th>\n",
       "      <th>name</th>\n",
       "      <th>email</th>\n",
       "      <th>creation_source</th>\n",
       "      <th>last_session_creation_time</th>\n",
       "      <th>opted_in_to_mailing_list</th>\n",
       "      <th>enabled_for_marketing_drip</th>\n",
       "      <th>org_id</th>\n",
       "      <th>invited_by_user_id</th>\n",
       "      <th>email_domain</th>\n",
       "      <th>Referral_create_time</th>\n",
       "      <th>Diff</th>\n",
       "      <th>adopted</th>\n",
       "      <th>invite_by_adopted</th>\n",
       "      <th>creation_day</th>\n",
       "      <th>weekday</th>\n",
       "    </tr>\n",
       "  </thead>\n",
       "  <tbody>\n",
       "    <tr>\n",
       "      <th>0</th>\n",
       "      <td>1</td>\n",
       "      <td>2014-04-22</td>\n",
       "      <td>Clausen August</td>\n",
       "      <td>AugustCClausen@yahoo.com</td>\n",
       "      <td>GUEST_INVITE</td>\n",
       "      <td>1970-01-01 00:00:01.398138810</td>\n",
       "      <td>1</td>\n",
       "      <td>0</td>\n",
       "      <td>11</td>\n",
       "      <td>10803.0</td>\n",
       "      <td>yahoo.com</td>\n",
       "      <td>Thursday, August 9, 2012</td>\n",
       "      <td>620.889595</td>\n",
       "      <td>0</td>\n",
       "      <td>0</td>\n",
       "      <td>1</td>\n",
       "      <td>1</td>\n",
       "    </tr>\n",
       "    <tr>\n",
       "      <th>1</th>\n",
       "      <td>2</td>\n",
       "      <td>2013-11-15</td>\n",
       "      <td>Poole Matthew</td>\n",
       "      <td>MatthewPoole@gustr.com</td>\n",
       "      <td>ORG_INVITE</td>\n",
       "      <td>1970-01-01 00:00:01.396237504</td>\n",
       "      <td>0</td>\n",
       "      <td>0</td>\n",
       "      <td>1</td>\n",
       "      <td>316.0</td>\n",
       "      <td>gustr.com</td>\n",
       "      <td>Thursday, August 30, 2012</td>\n",
       "      <td>442.032268</td>\n",
       "      <td>1</td>\n",
       "      <td>0</td>\n",
       "      <td>4</td>\n",
       "      <td>1</td>\n",
       "    </tr>\n",
       "    <tr>\n",
       "      <th>2</th>\n",
       "      <td>3</td>\n",
       "      <td>2013-03-19</td>\n",
       "      <td>Bottrill Mitchell</td>\n",
       "      <td>MitchellBottrill@gustr.com</td>\n",
       "      <td>ORG_INVITE</td>\n",
       "      <td>1970-01-01 00:00:01.363734892</td>\n",
       "      <td>0</td>\n",
       "      <td>0</td>\n",
       "      <td>94</td>\n",
       "      <td>1525.0</td>\n",
       "      <td>gustr.com</td>\n",
       "      <td>Saturday, June 9, 2012</td>\n",
       "      <td>283.003171</td>\n",
       "      <td>0</td>\n",
       "      <td>1</td>\n",
       "      <td>1</td>\n",
       "      <td>1</td>\n",
       "    </tr>\n",
       "    <tr>\n",
       "      <th>3</th>\n",
       "      <td>4</td>\n",
       "      <td>2013-05-21</td>\n",
       "      <td>Clausen Nicklas</td>\n",
       "      <td>NicklasSClausen@yahoo.com</td>\n",
       "      <td>GUEST_INVITE</td>\n",
       "      <td>1970-01-01 00:00:01.369210168</td>\n",
       "      <td>0</td>\n",
       "      <td>0</td>\n",
       "      <td>1</td>\n",
       "      <td>5151.0</td>\n",
       "      <td>yahoo.com</td>\n",
       "      <td>Thursday, June 7, 2012</td>\n",
       "      <td>347.357558</td>\n",
       "      <td>0</td>\n",
       "      <td>1</td>\n",
       "      <td>1</td>\n",
       "      <td>1</td>\n",
       "    </tr>\n",
       "    <tr>\n",
       "      <th>4</th>\n",
       "      <td>5</td>\n",
       "      <td>2013-01-17</td>\n",
       "      <td>Raw Grace</td>\n",
       "      <td>GraceRaw@yahoo.com</td>\n",
       "      <td>GUEST_INVITE</td>\n",
       "      <td>1970-01-01 00:00:01.358849660</td>\n",
       "      <td>0</td>\n",
       "      <td>0</td>\n",
       "      <td>193</td>\n",
       "      <td>5240.0</td>\n",
       "      <td>yahoo.com</td>\n",
       "      <td>Monday, June 11, 2012</td>\n",
       "      <td>220.053727</td>\n",
       "      <td>0</td>\n",
       "      <td>1</td>\n",
       "      <td>3</td>\n",
       "      <td>1</td>\n",
       "    </tr>\n",
       "  </tbody>\n",
       "</table>\n",
       "</div>"
      ],
      "text/plain": [
       "   object_id creation_time               name                       email  \\\n",
       "0          1    2014-04-22     Clausen August    AugustCClausen@yahoo.com   \n",
       "1          2    2013-11-15      Poole Matthew      MatthewPoole@gustr.com   \n",
       "2          3    2013-03-19  Bottrill Mitchell  MitchellBottrill@gustr.com   \n",
       "3          4    2013-05-21    Clausen Nicklas   NicklasSClausen@yahoo.com   \n",
       "4          5    2013-01-17          Raw Grace          GraceRaw@yahoo.com   \n",
       "\n",
       "  creation_source    last_session_creation_time  opted_in_to_mailing_list  \\\n",
       "0    GUEST_INVITE 1970-01-01 00:00:01.398138810                         1   \n",
       "1      ORG_INVITE 1970-01-01 00:00:01.396237504                         0   \n",
       "2      ORG_INVITE 1970-01-01 00:00:01.363734892                         0   \n",
       "3    GUEST_INVITE 1970-01-01 00:00:01.369210168                         0   \n",
       "4    GUEST_INVITE 1970-01-01 00:00:01.358849660                         0   \n",
       "\n",
       "   enabled_for_marketing_drip  org_id  invited_by_user_id email_domain  \\\n",
       "0                           0      11             10803.0    yahoo.com   \n",
       "1                           0       1               316.0    gustr.com   \n",
       "2                           0      94              1525.0    gustr.com   \n",
       "3                           0       1              5151.0    yahoo.com   \n",
       "4                           0     193              5240.0    yahoo.com   \n",
       "\n",
       "        Referral_create_time        Diff  adopted  invite_by_adopted  \\\n",
       "0   Thursday, August 9, 2012  620.889595        0                  0   \n",
       "1  Thursday, August 30, 2012  442.032268        1                  0   \n",
       "2     Saturday, June 9, 2012  283.003171        0                  1   \n",
       "3     Thursday, June 7, 2012  347.357558        0                  1   \n",
       "4      Monday, June 11, 2012  220.053727        0                  1   \n",
       "\n",
       "   creation_day  weekday  \n",
       "0             1        1  \n",
       "1             4        1  \n",
       "2             1        1  \n",
       "3             1        1  \n",
       "4             3        1  "
      ]
     },
     "execution_count": 210,
     "metadata": {},
     "output_type": "execute_result"
    }
   ],
   "source": [
    "df1.head()"
   ]
  },
  {
   "cell_type": "code",
   "execution_count": 35,
   "metadata": {},
   "outputs": [],
   "source": [
    "df['time_stamp'] = df['time_stamp'].dt.floor('d').astype(np.int64)\n",
    "#sorting and remove duplicated days per users \n",
    "df = df.sort_values(['user_id', 'time_stamp']).drop_duplicates()\n",
    "\n",
    "a = df.groupby('user_id')['time_stamp'].rolling(window=3)\n",
    "b = pd.to_timedelta((a.max()- a.min())).dt.days\n",
    "#print (b)\n",
    " \n"
   ]
  },
  {
   "cell_type": "code",
   "execution_count": 34,
   "metadata": {},
   "outputs": [],
   "source": [
    "c = b[b == 7].index.get_level_values('user_id').tolist()\n",
    "#print (c)\n"
   ]
  },
  {
   "cell_type": "code",
   "execution_count": null,
   "metadata": {},
   "outputs": [],
   "source": []
  },
  {
   "cell_type": "code",
   "execution_count": 31,
   "metadata": {},
   "outputs": [],
   "source": [
    "s=[]"
   ]
  },
  {
   "cell_type": "code",
   "execution_count": 32,
   "metadata": {},
   "outputs": [],
   "source": [
    "for i in c:\n",
    "       if i not in s:\n",
    "          s.append(i)\n"
   ]
  },
  {
   "cell_type": "code",
   "execution_count": null,
   "metadata": {},
   "outputs": [],
   "source": []
  },
  {
   "cell_type": "code",
   "execution_count": 55,
   "metadata": {},
   "outputs": [],
   "source": [
    "df1['adopted'] =  df1.object_id.isin(s).astype(int)"
   ]
  },
  {
   "cell_type": "code",
   "execution_count": 56,
   "metadata": {},
   "outputs": [],
   "source": [
    "df1['invite_by_adopted'] =  df1.invited_by_user_id.isin(s).astype(int)"
   ]
  },
  {
   "cell_type": "code",
   "execution_count": 71,
   "metadata": {},
   "outputs": [],
   "source": [
    "df1['creation_time'] = pd.to_datetime(df1['creation_time'])"
   ]
  },
  {
   "cell_type": "code",
   "execution_count": 58,
   "metadata": {},
   "outputs": [],
   "source": [
    "df1['last_session_creation_time'] = pd.to_datetime(df1['last_session_creation_time'])"
   ]
  },
  {
   "cell_type": "code",
   "execution_count": 79,
   "metadata": {},
   "outputs": [],
   "source": [
    "df1['creation_day'] = df1['creation_time'].dt.dayofweek"
   ]
  },
  {
   "cell_type": "code",
   "execution_count": 88,
   "metadata": {},
   "outputs": [],
   "source": [
    "weekday = [0,1,2,3,4]\n",
    "df1['weekday'] =  df1.creation_day.isin(weekday).astype(int)"
   ]
  },
  {
   "cell_type": "code",
   "execution_count": null,
   "metadata": {},
   "outputs": [],
   "source": []
  },
  {
   "cell_type": "code",
   "execution_count": 61,
   "metadata": {},
   "outputs": [],
   "source": [
    "#Two new features are created in the users table: \n",
    "#1:If they user they are invited by is an adopted user/not.\n",
    "#2:difference between DOJ of invited_by_user and DOJ of the object(Asuumption: Users who have been using the platform for longtime tend to have more \n",
    "#impactful referral than the new user referrals.)\n",
    "#3:weakday: If the user is created on weekday/weekend\n",
    "\n"
   ]
  },
  {
   "cell_type": "code",
   "execution_count": null,
   "metadata": {},
   "outputs": [],
   "source": []
  },
  {
   "cell_type": "code",
   "execution_count": 52,
   "metadata": {},
   "outputs": [
    {
     "data": {
      "text/plain": [
       "last_session_creation_time    3177\n",
       "invited_by_user_id            5583\n",
       "dtype: int64"
      ]
     },
     "execution_count": 52,
     "metadata": {},
     "output_type": "execute_result"
    }
   ],
   "source": [
    "\n",
    "def show_missing_count():\n",
    "    missing = df1.columns[df1.isnull().any()].tolist()\n",
    "    return missing\n",
    "df1[show_missing_count()].isnull().sum()\n",
    "\n",
    "#There are missing values in last-session_creationtime and invited_by_user_id.\n",
    "#Since  invited_by_user_id can be empty if the user is not invited by our current customers I replace it with ."
   ]
  },
  {
   "cell_type": "code",
   "execution_count": null,
   "metadata": {},
   "outputs": [],
   "source": []
  },
  {
   "cell_type": "code",
   "execution_count": 170,
   "metadata": {},
   "outputs": [
    {
     "data": {
      "text/plain": [
       "Index(['creation_source', 'opted_in_to_mailing_list',\n",
       "       'enabled_for_marketing_drip', 'org_id', 'email_domain', 'Diff',\n",
       "       'adopted', 'invite_by_adopted', 'weekday'],\n",
       "      dtype='object')"
      ]
     },
     "execution_count": 170,
     "metadata": {},
     "output_type": "execute_result"
    }
   ],
   "source": [
    "df1.columns\n",
    "#Drop the redundant/useless columns\n",
    "df2=df1.drop(['creation_day','object_id','name', 'email','last_session_creation_time','invited_by_user_id','Referral_create_time','creation_time'],axis=1)\n",
    "df2.columns"
   ]
  },
  {
   "cell_type": "code",
   "execution_count": 171,
   "metadata": {},
   "outputs": [
    {
     "data": {
      "text/html": [
       "<div>\n",
       "<style scoped>\n",
       "    .dataframe tbody tr th:only-of-type {\n",
       "        vertical-align: middle;\n",
       "    }\n",
       "\n",
       "    .dataframe tbody tr th {\n",
       "        vertical-align: top;\n",
       "    }\n",
       "\n",
       "    .dataframe thead th {\n",
       "        text-align: right;\n",
       "    }\n",
       "</style>\n",
       "<table border=\"1\" class=\"dataframe\">\n",
       "  <thead>\n",
       "    <tr style=\"text-align: right;\">\n",
       "      <th></th>\n",
       "      <th>creation_source</th>\n",
       "      <th>opted_in_to_mailing_list</th>\n",
       "      <th>enabled_for_marketing_drip</th>\n",
       "      <th>org_id</th>\n",
       "      <th>email_domain</th>\n",
       "      <th>Diff</th>\n",
       "      <th>adopted</th>\n",
       "      <th>invite_by_adopted</th>\n",
       "      <th>weekday</th>\n",
       "    </tr>\n",
       "  </thead>\n",
       "  <tbody>\n",
       "    <tr>\n",
       "      <th>0</th>\n",
       "      <td>GUEST_INVITE</td>\n",
       "      <td>1</td>\n",
       "      <td>0</td>\n",
       "      <td>11</td>\n",
       "      <td>yahoo.com</td>\n",
       "      <td>620.889595</td>\n",
       "      <td>0</td>\n",
       "      <td>0</td>\n",
       "      <td>1</td>\n",
       "    </tr>\n",
       "    <tr>\n",
       "      <th>1</th>\n",
       "      <td>ORG_INVITE</td>\n",
       "      <td>0</td>\n",
       "      <td>0</td>\n",
       "      <td>1</td>\n",
       "      <td>gustr.com</td>\n",
       "      <td>442.032268</td>\n",
       "      <td>1</td>\n",
       "      <td>0</td>\n",
       "      <td>1</td>\n",
       "    </tr>\n",
       "    <tr>\n",
       "      <th>2</th>\n",
       "      <td>ORG_INVITE</td>\n",
       "      <td>0</td>\n",
       "      <td>0</td>\n",
       "      <td>94</td>\n",
       "      <td>gustr.com</td>\n",
       "      <td>283.003171</td>\n",
       "      <td>0</td>\n",
       "      <td>1</td>\n",
       "      <td>1</td>\n",
       "    </tr>\n",
       "    <tr>\n",
       "      <th>3</th>\n",
       "      <td>GUEST_INVITE</td>\n",
       "      <td>0</td>\n",
       "      <td>0</td>\n",
       "      <td>1</td>\n",
       "      <td>yahoo.com</td>\n",
       "      <td>347.357558</td>\n",
       "      <td>0</td>\n",
       "      <td>1</td>\n",
       "      <td>1</td>\n",
       "    </tr>\n",
       "    <tr>\n",
       "      <th>4</th>\n",
       "      <td>GUEST_INVITE</td>\n",
       "      <td>0</td>\n",
       "      <td>0</td>\n",
       "      <td>193</td>\n",
       "      <td>yahoo.com</td>\n",
       "      <td>220.053727</td>\n",
       "      <td>0</td>\n",
       "      <td>1</td>\n",
       "      <td>1</td>\n",
       "    </tr>\n",
       "  </tbody>\n",
       "</table>\n",
       "</div>"
      ],
      "text/plain": [
       "  creation_source  opted_in_to_mailing_list  enabled_for_marketing_drip  \\\n",
       "0    GUEST_INVITE                         1                           0   \n",
       "1      ORG_INVITE                         0                           0   \n",
       "2      ORG_INVITE                         0                           0   \n",
       "3    GUEST_INVITE                         0                           0   \n",
       "4    GUEST_INVITE                         0                           0   \n",
       "\n",
       "   org_id email_domain        Diff  adopted  invite_by_adopted  weekday  \n",
       "0      11    yahoo.com  620.889595        0                  0        1  \n",
       "1       1    gustr.com  442.032268        1                  0        1  \n",
       "2      94    gustr.com  283.003171        0                  1        1  \n",
       "3       1    yahoo.com  347.357558        0                  1        1  \n",
       "4     193    yahoo.com  220.053727        0                  1        1  "
      ]
     },
     "execution_count": 171,
     "metadata": {},
     "output_type": "execute_result"
    }
   ],
   "source": [
    "df2.head()"
   ]
  },
  {
   "cell_type": "code",
   "execution_count": null,
   "metadata": {},
   "outputs": [],
   "source": []
  },
  {
   "cell_type": "code",
   "execution_count": 102,
   "metadata": {},
   "outputs": [],
   "source": [
    "#print(df2['email_domain'].value_counts())\n",
    "#If email domainnot in gmail/yahoo/jourrapise/cuvox/gustr/hotmail encode as other category "
   ]
  },
  {
   "cell_type": "code",
   "execution_count": 172,
   "metadata": {},
   "outputs": [],
   "source": [
    "email_domain = ['yahoo.com','gustr.com','gmail.com','jourrapise.com','cuvox.com','hotmail.com']"
   ]
  },
  {
   "cell_type": "code",
   "execution_count": 173,
   "metadata": {},
   "outputs": [
    {
     "name": "stderr",
     "output_type": "stream",
     "text": [
      "C:\\Users\\pothulbh\\AppData\\Local\\Continuum\\anaconda3\\lib\\site-packages\\ipykernel_launcher.py:3: SettingWithCopyWarning: \n",
      "A value is trying to be set on a copy of a slice from a DataFrame\n",
      "\n",
      "See the caveats in the documentation: http://pandas.pydata.org/pandas-docs/stable/indexing.html#indexing-view-versus-copy\n",
      "  This is separate from the ipykernel package so we can avoid doing imports until\n"
     ]
    }
   ],
   "source": [
    "for i in range(len(df2)) :\n",
    "    if df2['email_domain'][i] not in email_domain:\n",
    "        df2['email_domain'][i] = 'other'"
   ]
  },
  {
   "cell_type": "code",
   "execution_count": 174,
   "metadata": {},
   "outputs": [
    {
     "data": {
      "text/plain": [
       "other          3647\n",
       "gmail.com      3562\n",
       "yahoo.com      2447\n",
       "gustr.com      1179\n",
       "hotmail.com    1165\n",
       "Name: email_domain, dtype: int64"
      ]
     },
     "execution_count": 174,
     "metadata": {},
     "output_type": "execute_result"
    }
   ],
   "source": [
    "df2['email_domain'].value_counts()"
   ]
  },
  {
   "cell_type": "code",
   "execution_count": null,
   "metadata": {},
   "outputs": [],
   "source": []
  },
  {
   "cell_type": "code",
   "execution_count": 185,
   "metadata": {},
   "outputs": [
    {
     "data": {
      "text/plain": [
       "Index(['opted_in_to_mailing_list', 'enabled_for_marketing_drip', 'org_id',\n",
       "       'Diff', 'adopted', 'invite_by_adopted', 'weekday',\n",
       "       'creation_source_GUEST_INVITE', 'creation_source_ORG_INVITE',\n",
       "       'creation_source_PERSONAL_PROJECTS', 'creation_source_SIGNUP',\n",
       "       'creation_source_SIGNUP_GOOGLE_AUTH', 'email_domain_gmail.com',\n",
       "       'email_domain_gustr.com', 'email_domain_hotmail.com',\n",
       "       'email_domain_other', 'email_domain_yahoo.com'],\n",
       "      dtype='object')"
      ]
     },
     "execution_count": 185,
     "metadata": {},
     "output_type": "execute_result"
    }
   ],
   "source": [
    "#Before Modelling\n",
    "#1.one hot encoding for source\n",
    "#2.one hot encoding for email_domain\n",
    "#3.convert data types of adopted ,invite_by_adopted,weekday \n",
    "#4.bin diff\n",
    "\n",
    "df2.columns\n"
   ]
  },
  {
   "cell_type": "code",
   "execution_count": 189,
   "metadata": {},
   "outputs": [],
   "source": [
    "\n",
    "df2['adopted'] = df2['adopted'].astype('category')\n",
    "df2['invite_by_adopted'] = df2['invite_by_adopted'].astype('category')\n",
    "df2['weekday'] = df2['weekday'].astype('category')\n",
    "\n",
    "df2['adopted'] = df2['adopted'].cat.codes\n",
    "df2['invite_by_adopted'] = df2['invite_by_adopted'].cat.codes\n",
    "df2['weekday'] = df2['weekday'].cat.codes"
   ]
  },
  {
   "cell_type": "code",
   "execution_count": 176,
   "metadata": {},
   "outputs": [],
   "source": [
    "df2 = pd.get_dummies(df2, columns=['creation_source', 'email_domain'])"
   ]
  },
  {
   "cell_type": "code",
   "execution_count": 190,
   "metadata": {},
   "outputs": [
    {
     "data": {
      "text/plain": [
       "opted_in_to_mailing_list                int64\n",
       "enabled_for_marketing_drip              int64\n",
       "org_id                                  int64\n",
       "Diff                                  float64\n",
       "adopted                                  int8\n",
       "invite_by_adopted                        int8\n",
       "weekday                                  int8\n",
       "creation_source_GUEST_INVITE            uint8\n",
       "creation_source_ORG_INVITE              uint8\n",
       "creation_source_PERSONAL_PROJECTS       uint8\n",
       "creation_source_SIGNUP                  uint8\n",
       "creation_source_SIGNUP_GOOGLE_AUTH      uint8\n",
       "email_domain_gmail.com                  uint8\n",
       "email_domain_gustr.com                  uint8\n",
       "email_domain_hotmail.com                uint8\n",
       "email_domain_other                      uint8\n",
       "email_domain_yahoo.com                  uint8\n",
       "dtype: object"
      ]
     },
     "execution_count": 190,
     "metadata": {},
     "output_type": "execute_result"
    }
   ],
   "source": [
    "df2.dtypes"
   ]
  },
  {
   "cell_type": "code",
   "execution_count": 193,
   "metadata": {},
   "outputs": [],
   "source": [
    "fin_df = df2.drop('org_id',axis=1)\n"
   ]
  },
  {
   "cell_type": "code",
   "execution_count": 201,
   "metadata": {},
   "outputs": [],
   "source": [
    "import xgboost as xgb\n",
    "import matplotlib.pyplot as plt\n",
    "import seaborn as sn"
   ]
  },
  {
   "cell_type": "code",
   "execution_count": 330,
   "metadata": {},
   "outputs": [
    {
     "data": {
      "text/plain": [
       "Index(['opted_in_to_mailing_list', 'enabled_for_marketing_drip', 'org_id',\n",
       "       'Diff', 'adopted', 'invite_by_adopted', 'weekday',\n",
       "       'creation_source_GUEST_INVITE', 'creation_source_ORG_INVITE',\n",
       "       'creation_source_PERSONAL_PROJECTS', 'creation_source_SIGNUP',\n",
       "       'creation_source_SIGNUP_GOOGLE_AUTH', 'email_domain_gmail.com',\n",
       "       'email_domain_gustr.com', 'email_domain_hotmail.com',\n",
       "       'email_domain_other', 'email_domain_yahoo.com'],\n",
       "      dtype='object')"
      ]
     },
     "execution_count": 330,
     "metadata": {},
     "output_type": "execute_result"
    }
   ],
   "source": [
    "under_sample_data.columns"
   ]
  },
  {
   "cell_type": "code",
   "execution_count": 331,
   "metadata": {},
   "outputs": [],
   "source": [
    "train_y = under_sample_data['adopted'].values\n",
    "train_X = under_sample_data.drop([\"adopted\",\"org_id\",\"Diff\"], axis=1)\n",
    "\n",
    "xgb_params = {\n",
    "    'eta': 0.05,\n",
    "    'max_depth': 8,\n",
    "    'subsample': 0.7,\n",
    "    'colsample_bytree': 0.7,\n",
    "    'objective': 'reg:linear',\n",
    "    'eval_metric': 'rmse',\n",
    "    'silent': 1\n",
    "}\n",
    "dtrain = xgb.DMatrix(train_X, train_y, feature_names=train_X.columns.values)\n",
    "model = xgb.train(dict(xgb_params, silent=0), dtrain, num_boost_round=100)"
   ]
  },
  {
   "cell_type": "code",
   "execution_count": 332,
   "metadata": {},
   "outputs": [
    {
     "data": {
      "image/png": "[encoded data removed]",
      "text/plain": [
       "<matplotlib.figure.Figure at 0x26cfb134390>"
      ]
     },
     "metadata": {},
     "output_type": "display_data"
    }
   ],
   "source": [
    "featureImportance = model.get_fscore()\n",
    "features = pd.DataFrame()\n",
    "features['features'] = featureImportance.keys()\n",
    "features['importance'] = featureImportance.values()\n",
    "features.sort_values(by=['importance'],ascending=False,inplace=True)\n",
    "fig,ax= plt.subplots()\n",
    "fig.set_size_inches(20,10)\n",
    "plt.xticks(rotation=90)\n",
    "sn.barplot(data=features.head(15),x=\"importance\",y=\"features\",ax=ax,orient=\"h\",color=\"#34495e\")\n",
    "plt.show()"
   ]
  },
  {
   "cell_type": "code",
   "execution_count": null,
   "metadata": {},
   "outputs": [],
   "source": []
  },
  {
   "cell_type": "code",
   "execution_count": null,
   "metadata": {},
   "outputs": [],
   "source": [
    "#Modelling"
   ]
  },
  {
   "cell_type": "code",
   "execution_count": 208,
   "metadata": {},
   "outputs": [
    {
     "data": {
      "text/plain": [
       "Text(0,0.5,'Frequency')"
      ]
     },
     "execution_count": 208,
     "metadata": {},
     "output_type": "execute_result"
    },
    {
     "data": {
      "image/png": "[encoded data removed]",
      "text/plain": [
       "<matplotlib.figure.Figure at 0x26cf3329fd0>"
      ]
     },
     "metadata": {},
     "output_type": "display_data"
    }
   ],
   "source": [
    "count_classes = pd.value_counts(df2['adopted'], sort = True).sort_index()\n",
    "count_classes.plot(kind = 'bar')\n",
    "plt.title(\"Adopted/Non-Adopted proprtion\")\n",
    "plt.xlabel(\"Class\")\n",
    "plt.ylabel(\"Frequency\")"
   ]
  },
  {
   "cell_type": "code",
   "execution_count": 209,
   "metadata": {},
   "outputs": [
    {
     "data": {
      "text/plain": [
       "0    10642\n",
       "1     1358\n",
       "Name: adopted, dtype: int64"
      ]
     },
     "execution_count": 209,
     "metadata": {},
     "output_type": "execute_result"
    }
   ],
   "source": [
    "df2['adopted'].value_counts()"
   ]
  },
  {
   "cell_type": "code",
   "execution_count": 212,
   "metadata": {},
   "outputs": [],
   "source": [
    "#Classes  are imbalance in more than 1:5 ratio"
   ]
  },
  {
   "cell_type": "code",
   "execution_count": 211,
   "metadata": {},
   "outputs": [],
   "source": [
    "#Let's test performance after different sampling methods"
   ]
  },
  {
   "cell_type": "code",
   "execution_count": 217,
   "metadata": {},
   "outputs": [],
   "source": [
    "# Number of data points in the minority class and indices\n",
    "number_adop_users = len(df2[df2.adopted == 1])\n",
    "adopt_indices = np.array(df2[df2.adopted == 1].index)\n",
    "\n",
    "# Picking the indices of the majority classes\n",
    "non_adapt_indices = df2[df2.adopted == 0].index\n",
    "\n",
    "\n",
    "# Out of the indices we picked, randomly select \"x\" number (number_adop_users)\n",
    "random_normal_indices = np.random.choice(non_adapt_indices, number_adop_users, replace = False)\n",
    "random_normal_indices = np.array(random_normal_indices)\n",
    "\n",
    "# Appending the 2 indices\n",
    "under_sample_indices = np.concatenate([adopt_indices,random_normal_indices])\n",
    "\n",
    "# Under sample dataset\n",
    "under_sample_data = df2.iloc[under_sample_indices,:]"
   ]
  },
  {
   "cell_type": "code",
   "execution_count": 248,
   "metadata": {},
   "outputs": [
    {
     "data": {
      "text/plain": [
       "1    1358\n",
       "0    1358\n",
       "Name: adopted, dtype: int64"
      ]
     },
     "execution_count": 248,
     "metadata": {},
     "output_type": "execute_result"
    }
   ],
   "source": [
    "under_sample_data['adopted'].value_counts()"
   ]
  },
  {
   "cell_type": "code",
   "execution_count": null,
   "metadata": {},
   "outputs": [],
   "source": []
  },
  {
   "cell_type": "code",
   "execution_count": null,
   "metadata": {},
   "outputs": [],
   "source": []
  },
  {
   "cell_type": "code",
   "execution_count": 341,
   "metadata": {},
   "outputs": [
    {
     "data": {
      "text/plain": [
       "Series([], dtype: float64)"
      ]
     },
     "execution_count": 341,
     "metadata": {},
     "output_type": "execute_result"
    }
   ],
   "source": [
    "def show_missing_count():\n",
    "    missing = under_sample_data.columns[under_sample_data.isnull().any()].tolist()\n",
    "    return missing\n",
    "under_sample_data[show_missing_count()].isnull().sum()"
   ]
  },
  {
   "cell_type": "code",
   "execution_count": 317,
   "metadata": {},
   "outputs": [
    {
     "data": {
      "text/plain": [
       "Index(['opted_in_to_mailing_list', 'enabled_for_marketing_drip', 'org_id',\n",
       "       'invite_by_adopted', 'weekday', 'creation_source_GUEST_INVITE',\n",
       "       'creation_source_ORG_INVITE', 'creation_source_PERSONAL_PROJECTS',\n",
       "       'creation_source_SIGNUP', 'creation_source_SIGNUP_GOOGLE_AUTH',\n",
       "       'email_domain_gmail.com', 'email_domain_gustr.com',\n",
       "       'email_domain_hotmail.com', 'email_domain_other',\n",
       "       'email_domain_yahoo.com'],\n",
       "      dtype='object')"
      ]
     },
     "execution_count": 317,
     "metadata": {},
     "output_type": "execute_result"
    }
   ],
   "source": [
    "#under_sample_data['Diff'] = under_sample_data['Diff'].fillna(0)\n",
    "X.columns"
   ]
  },
  {
   "cell_type": "code",
   "execution_count": 333,
   "metadata": {},
   "outputs": [],
   "source": [
    "y = under_sample_data['adopted'].values\n",
    "X = under_sample_data.drop([\"adopted\",\"Diff\",\"org_id\",], axis=1)"
   ]
  },
  {
   "cell_type": "code",
   "execution_count": 334,
   "metadata": {},
   "outputs": [],
   "source": [
    "from sklearn.model_selection import train_test_split\n",
    "from sklearn.metrics import classification_report\n",
    "from sklearn import metrics\n",
    "X_train, X_test, y_train, y_test = train_test_split(X, y, test_size=0.3, random_state=101)"
   ]
  },
  {
   "cell_type": "code",
   "execution_count": 335,
   "metadata": {},
   "outputs": [],
   "source": [
    "from sklearn.linear_model import LogisticRegression\n",
    "logModel = LogisticRegression()"
   ]
  },
  {
   "cell_type": "code",
   "execution_count": 336,
   "metadata": {},
   "outputs": [
    {
     "data": {
      "text/plain": [
       "LogisticRegression(C=1.0, class_weight=None, dual=False, fit_intercept=True,\n",
       "          intercept_scaling=1, max_iter=100, multi_class='ovr', n_jobs=1,\n",
       "          penalty='l2', random_state=None, solver='liblinear', tol=0.0001,\n",
       "          verbose=0, warm_start=False)"
      ]
     },
     "execution_count": 336,
     "metadata": {},
     "output_type": "execute_result"
    }
   ],
   "source": [
    "logModel.fit(X_train, y_train)"
   ]
  },
  {
   "cell_type": "code",
   "execution_count": 337,
   "metadata": {},
   "outputs": [],
   "source": [
    "predictions = logModel.predict(X_test)"
   ]
  },
  {
   "cell_type": "code",
   "execution_count": 338,
   "metadata": {},
   "outputs": [
    {
     "name": "stdout",
     "output_type": "stream",
     "text": [
      "             precision    recall  f1-score   support\n",
      "\n",
      "          0       0.50      0.59      0.54       379\n",
      "          1       0.57      0.48      0.52       436\n",
      "\n",
      "avg / total       0.54      0.53      0.53       815\n",
      "\n"
     ]
    }
   ],
   "source": [
    "print(classification_report(y_test, predictions))\n"
   ]
  },
  {
   "cell_type": "code",
   "execution_count": null,
   "metadata": {},
   "outputs": [],
   "source": []
  },
  {
   "cell_type": "code",
   "execution_count": 339,
   "metadata": {},
   "outputs": [
    {
     "name": "stdout",
     "output_type": "stream",
     "text": [
      "Optimization terminated successfully.\n",
      "         Current function value: 0.680248\n",
      "         Iterations 4\n"
     ]
    },
    {
     "name": "stderr",
     "output_type": "stream",
     "text": [
      "C:\\Users\\pothulbh\\AppData\\Local\\Continuum\\anaconda3\\lib\\site-packages\\statsmodels\\base\\model.py:1029: RuntimeWarning: invalid value encountered in sqrt\n",
      "  return np.sqrt(np.diag(self.cov_params()))\n",
      "C:\\Users\\pothulbh\\AppData\\Local\\Continuum\\anaconda3\\lib\\site-packages\\scipy\\stats\\_distn_infrastructure.py:879: RuntimeWarning: invalid value encountered in greater\n",
      "  return (self.a < x) & (x < self.b)\n",
      "C:\\Users\\pothulbh\\AppData\\Local\\Continuum\\anaconda3\\lib\\site-packages\\scipy\\stats\\_distn_infrastructure.py:879: RuntimeWarning: invalid value encountered in less\n",
      "  return (self.a < x) & (x < self.b)\n",
      "C:\\Users\\pothulbh\\AppData\\Local\\Continuum\\anaconda3\\lib\\site-packages\\scipy\\stats\\_distn_infrastructure.py:1821: RuntimeWarning: invalid value encountered in less_equal\n",
      "  cond2 = cond0 & (x <= self.a)\n"
     ]
    },
    {
     "data": {
      "text/html": [
       "<table class=\"simpletable\">\n",
       "<tr>\n",
       "        <td>Model:</td>              <td>Logit</td>       <td>No. Iterations:</td>   <td>4.0000</td>  \n",
       "</tr>\n",
       "<tr>\n",
       "  <td>Dependent Variable:</td>         <td>y</td>        <td>Pseudo R-squared:</td>   <td>0.018</td>  \n",
       "</tr>\n",
       "<tr>\n",
       "         <td>Date:</td>        <td>2018-05-07 08:39</td>       <td>AIC:</td>        <td>2612.3039</td>\n",
       "</tr>\n",
       "<tr>\n",
       "   <td>No. Observations:</td>        <td>1901</td>             <td>BIC:</td>        <td>2684.4557</td>\n",
       "</tr>\n",
       "<tr>\n",
       "       <td>Df Model:</td>             <td>12</td>         <td>Log-Likelihood:</td>   <td>-1293.2</td> \n",
       "</tr>\n",
       "<tr>\n",
       "     <td>Df Residuals:</td>          <td>1888</td>           <td>LL-Null:</td>       <td>-1316.8</td> \n",
       "</tr>\n",
       "<tr>\n",
       "      <td>Converged:</td>           <td>1.0000</td>           <td>Scale:</td>        <td>1.0000</td>  \n",
       "</tr>\n",
       "</table>\n",
       "<table class=\"simpletable\">\n",
       "<tr>\n",
       "                   <td></td>                   <th>Coef.</th>  <th>Std.Err.</th>    <th>z</th>     <th>P>|z|</th> <th>[0.025</th>  <th>0.975]</th>\n",
       "</tr>\n",
       "<tr>\n",
       "  <th>opted_in_to_mailing_list</th>           <td>0.1189</td>   <td>0.1218</td>  <td>0.9765</td>  <td>0.3288</td> <td>-0.1198</td> <td>0.3577</td>\n",
       "</tr>\n",
       "<tr>\n",
       "  <th>enabled_for_marketing_drip</th>         <td>-0.0750</td>  <td>0.1471</td>  <td>-0.5096</td> <td>0.6103</td> <td>-0.3634</td> <td>0.2134</td>\n",
       "</tr>\n",
       "<tr>\n",
       "  <th>invite_by_adopted</th>                  <td>0.3756</td>   <td>0.1594</td>  <td>2.3573</td>  <td>0.0184</td> <td>0.0633</td>  <td>0.6880</td>\n",
       "</tr>\n",
       "<tr>\n",
       "  <th>weekday</th>                            <td>-0.1290</td>  <td>0.1047</td>  <td>-1.2328</td> <td>0.2177</td> <td>-0.3342</td> <td>0.0761</td>\n",
       "</tr>\n",
       "<tr>\n",
       "  <th>creation_source_GUEST_INVITE</th>       <td>0.2013</td>     <td>nan</td>     <td>nan</td>     <td>nan</td>    <td>nan</td>     <td>nan</td> \n",
       "</tr>\n",
       "<tr>\n",
       "  <th>creation_source_ORG_INVITE</th>         <td>-0.1178</td>    <td>nan</td>     <td>nan</td>     <td>nan</td>    <td>nan</td>     <td>nan</td> \n",
       "</tr>\n",
       "<tr>\n",
       "  <th>creation_source_PERSONAL_PROJECTS</th>  <td>-0.4846</td>    <td>nan</td>     <td>nan</td>     <td>nan</td>    <td>nan</td>     <td>nan</td> \n",
       "</tr>\n",
       "<tr>\n",
       "  <th>creation_source_SIGNUP</th>             <td>0.0350</td>     <td>nan</td>     <td>nan</td>     <td>nan</td>    <td>nan</td>     <td>nan</td> \n",
       "</tr>\n",
       "<tr>\n",
       "  <th>creation_source_SIGNUP_GOOGLE_AUTH</th> <td>0.3496</td>     <td>nan</td>     <td>nan</td>     <td>nan</td>    <td>nan</td>     <td>nan</td> \n",
       "</tr>\n",
       "<tr>\n",
       "  <th>email_domain_gmail.com</th>             <td>-0.0467</td>    <td>nan</td>     <td>nan</td>     <td>nan</td>    <td>nan</td>     <td>nan</td> \n",
       "</tr>\n",
       "<tr>\n",
       "  <th>email_domain_gustr.com</th>             <td>-0.1122</td>    <td>nan</td>     <td>nan</td>     <td>nan</td>    <td>nan</td>     <td>nan</td> \n",
       "</tr>\n",
       "<tr>\n",
       "  <th>email_domain_hotmail.com</th>           <td>0.3129</td>     <td>nan</td>     <td>nan</td>     <td>nan</td>    <td>nan</td>     <td>nan</td> \n",
       "</tr>\n",
       "<tr>\n",
       "  <th>email_domain_other</th>                 <td>0.0708</td>     <td>nan</td>     <td>nan</td>     <td>nan</td>    <td>nan</td>     <td>nan</td> \n",
       "</tr>\n",
       "<tr>\n",
       "  <th>email_domain_yahoo.com</th>             <td>-0.2412</td>    <td>nan</td>     <td>nan</td>     <td>nan</td>    <td>nan</td>     <td>nan</td> \n",
       "</tr>\n",
       "</table>"
      ],
      "text/plain": [
       "<class 'statsmodels.iolib.summary2.Summary'>\n",
       "\"\"\"\n",
       "                                 Results: Logit\n",
       "=================================================================================\n",
       "Model:                     Logit                 No. Iterations:        4.0000   \n",
       "Dependent Variable:        y                     Pseudo R-squared:      0.018    \n",
       "Date:                      2018-05-07 08:39      AIC:                   2612.3039\n",
       "No. Observations:          1901                  BIC:                   2684.4557\n",
       "Df Model:                  12                    Log-Likelihood:        -1293.2  \n",
       "Df Residuals:              1888                  LL-Null:               -1316.8  \n",
       "Converged:                 1.0000                Scale:                 1.0000   \n",
       "---------------------------------------------------------------------------------\n",
       "                                    Coef.  Std.Err.    z    P>|z|   [0.025 0.975]\n",
       "---------------------------------------------------------------------------------\n",
       "opted_in_to_mailing_list            0.1189   0.1218  0.9765 0.3288 -0.1198 0.3577\n",
       "enabled_for_marketing_drip         -0.0750   0.1471 -0.5096 0.6103 -0.3634 0.2134\n",
       "invite_by_adopted                   0.3756   0.1594  2.3573 0.0184  0.0633 0.6880\n",
       "weekday                            -0.1290   0.1047 -1.2328 0.2177 -0.3342 0.0761\n",
       "creation_source_GUEST_INVITE        0.2013      nan     nan    nan     nan    nan\n",
       "creation_source_ORG_INVITE         -0.1178      nan     nan    nan     nan    nan\n",
       "creation_source_PERSONAL_PROJECTS  -0.4846      nan     nan    nan     nan    nan\n",
       "creation_source_SIGNUP              0.0350      nan     nan    nan     nan    nan\n",
       "creation_source_SIGNUP_GOOGLE_AUTH  0.3496      nan     nan    nan     nan    nan\n",
       "email_domain_gmail.com             -0.0467      nan     nan    nan     nan    nan\n",
       "email_domain_gustr.com             -0.1122      nan     nan    nan     nan    nan\n",
       "email_domain_hotmail.com            0.3129      nan     nan    nan     nan    nan\n",
       "email_domain_other                  0.0708      nan     nan    nan     nan    nan\n",
       "email_domain_yahoo.com             -0.2412      nan     nan    nan     nan    nan\n",
       "=================================================================================\n",
       "\n",
       "\"\"\""
      ]
     },
     "execution_count": 339,
     "metadata": {},
     "output_type": "execute_result"
    }
   ],
   "source": [
    "\n",
    "import statsmodels.api as sm\n",
    "logit_model=sm.Logit(y_train,X_train)\n",
    "\n",
    "result=logit_model.fit()\n",
    "\n",
    "result.summary2()"
   ]
  },
  {
   "cell_type": "code",
   "execution_count": 342,
   "metadata": {},
   "outputs": [
    {
     "name": "stdout",
     "output_type": "stream",
     "text": [
      "Accuracy : 53.129%\n"
     ]
    }
   ],
   "source": [
    "#Print accuracy\n",
    "accuracy = metrics.accuracy_score(predictions,y_test)\n",
    "print (\"Accuracy : %s\" % \"{0:.3%}\".format(accuracy))\n"
   ]
  },
  {
   "cell_type": "code",
   "execution_count": 299,
   "metadata": {},
   "outputs": [],
   "source": []
  },
  {
   "cell_type": "code",
   "execution_count": 321,
   "metadata": {},
   "outputs": [
    {
     "name": "stdout",
     "output_type": "stream",
     "text": [
      "Accuracy: 0.560 (0.039)\n",
      "[0.57068063 0.46315789 0.54736842 0.56842105 0.55789474 0.61052632\n",
      " 0.57368421 0.53684211 0.56315789 0.61052632]\n"
     ]
    }
   ],
   "source": [
    "# Using 10 fold Cross-Validation to train our Logistic Regression Model\n",
    "from sklearn import model_selection\n",
    "from sklearn.linear_model import LogisticRegression\n",
    "kfold = model_selection.KFold(n_splits=10, random_state=0)\n",
    "modelCV = LogisticRegression(class_weight = \"balanced\")\n",
    "scoring = 'accuracy'\n",
    "results = model_selection.cross_val_score(modelCV, X_train, y_train, cv=kfold, scoring=scoring)\n",
    "print(\"Accuracy: %.3f (%.3f)\" % (results.mean(), results.std()))\n",
    "print(results)"
   ]
  },
  {
   "cell_type": "code",
   "execution_count": null,
   "metadata": {},
   "outputs": [],
   "source": [
    "\n"
   ]
  },
  {
   "cell_type": "code",
   "execution_count": 322,
   "metadata": {},
   "outputs": [
    {
     "name": "stdout",
     "output_type": "stream",
     "text": [
      "Accuracy: 0.563 (0.056)\n",
      "[0.56020942 0.44210526 0.55263158 0.61578947 0.53684211 0.63684211\n",
      " 0.55263158 0.52631579 0.56315789 0.64210526]\n"
     ]
    }
   ],
   "source": [
    "# Using 10 fold Cross-Validation to train our Logistic Regression Model\n",
    "from sklearn import model_selection\n",
    "from sklearn.linear_model import LogisticRegression\n",
    "kfold = model_selection.KFold(n_splits=10, random_state=0)\n",
    "l1logreg = LogisticRegression(C=0.2000000000000001, penalty='l1')\n",
    "scoring = 'accuracy'\n",
    "results = model_selection.cross_val_score(l1logreg, X_train, y_train, cv=kfold, scoring=scoring)\n",
    "print(\"Accuracy: %.3f (%.3f)\" % (results.mean(), results.std()))\n",
    "print(results)"
   ]
  },
  {
   "cell_type": "code",
   "execution_count": null,
   "metadata": {},
   "outputs": [],
   "source": []
  },
  {
   "cell_type": "code",
   "execution_count": 323,
   "metadata": {},
   "outputs": [],
   "source": [
    "from sklearn.ensemble import RandomForestClassifier"
   ]
  },
  {
   "cell_type": "code",
   "execution_count": 324,
   "metadata": {},
   "outputs": [
    {
     "name": "stdout",
     "output_type": "stream",
     "text": [
      "\n",
      "\n",
      " ---Random Forest Model---\n",
      "0.5325153374233129\n"
     ]
    }
   ],
   "source": [
    "#random forest\n",
    "rf = RandomForestClassifier(\n",
    "    n_estimators=1000, \n",
    "    max_depth=None, \n",
    "    min_samples_split=8, \n",
    "    class_weight=\"balanced\"\n",
    "    #min_weight_fraction_leaf=0.02 \n",
    "    )\n",
    "rf.fit(X_train, y_train)\n",
    "print (\"\\n\\n ---Random Forest Model---\")\n",
    "\n",
    "print(metrics.accuracy_score(y_test, rf.predict(X_test)))\n"
   ]
  },
  {
   "cell_type": "code",
   "execution_count": null,
   "metadata": {},
   "outputs": [],
   "source": []
  },
  {
   "cell_type": "code",
   "execution_count": null,
   "metadata": {},
   "outputs": [],
   "source": [
    "#Use Gradient Boosting"
   ]
  }
 ],
 "metadata": {
  "kernelspec": {
   "display_name": "Python 3",
   "language": "python",
   "name": "python3"
  },
  "language_info": {
   "codemirror_mode": {
    "name": "ipython",
    "version": 3
   },
   "file_extension": ".py",
   "mimetype": "text/x-python",
   "name": "python",
   "nbconvert_exporter": "python",
   "pygments_lexer": "ipython3",
   "version": "3.6.4"
  }
 },
 "nbformat": 4,
 "nbformat_minor": 2
}
